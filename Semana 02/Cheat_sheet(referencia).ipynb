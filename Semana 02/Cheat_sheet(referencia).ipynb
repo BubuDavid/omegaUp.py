{
 "cells": [
  {
   "cell_type": "markdown",
   "metadata": {},
   "source": [
    "# Sesión 2: Variables 🚀\n",
    "\n",
    "------\n",
    "\n",
    "<img src=\"https://futurelab.mx/images/futurelab-landscape.png\" alt=\"Drawing\" width=\"30%\"/>\n",
    "\n",
    "Indice: \n",
    "1. Introducción\n",
    "2. Tipos de datos elementales\n",
    "    1. Números enteros\n",
    "    2. Números de punto flotante\n",
    "    3. Cadenas de texto\n",
    "    4. Booleanos\n",
    "    5. Números complejos\n",
    "3. Operaciones elementales\n",
    "    1. Aritméticas\n",
    "    2. Lógicas\n",
    "    3. Casting\n",
    "4. Extra: Resolver problemas en OmegaUp"
   ]
  },
  {
   "cell_type": "markdown",
   "metadata": {},
   "source": [
    "## Introducción\n",
    "\n",
    "Una **variable** es algo donde puedes guardar cosas. Tal vez estás familiarizado con el concepto de variable en matemáticas, donde por ejemplo tenemos la variable $x$ la cual tiene cierto valor, digamos $x = 5$, y puedes realizar operaciones matemáticas con dicha variable que representa a un número.\n",
    "\n",
    "Cuando estas programando, una variable tiene un significado mucha más general, más allá de solo *guardar* un número. En realidad, puedes ver una variable como una canasta que te sirve para guardar cosas. A esa canasta le puedes meter diferentes cosas, y depende de lo que le metas el tipo de canasta que sea. Por ejemplo, si a una canasta le metes una manzana, entonces es una canasta de manzanas 🍎(**y nada más**). \n",
    "\n",
    "A esto proceso de meter cosas en las variables, se le llama *asignación de variable*, donde tú le asignas algo y esta lo guarda. En Python 🐍 no es necesario especificar desde el principio que tipo de variable vas a utilizar (no necesitas decir desde el principio que una canasta será exclusivamente de manzanas), aunque eso lo veremos más a detalle al final. \n"
   ]
  },
  {
   "cell_type": "markdown",
   "metadata": {},
   "source": [
    "## Tipos de datos elementales  "
   ]
  },
  {
   "cell_type": "markdown",
   "metadata": {},
   "source": [
    "### Números enteros\n",
    "\n",
    "Un número entero es aquel que no tiene parte decimal, por ejemplo los números:  $1$, $2$, $-5$ y $-14$ son números enteros. Declarar un variable con un número entero es sencillo, simplemente:"
   ]
  },
  {
   "cell_type": "code",
   "execution_count": 1,
   "metadata": {},
   "outputs": [],
   "source": [
    "a = 5"
   ]
  },
  {
   "cell_type": "markdown",
   "metadata": {},
   "source": [
    "Donde decimos literalmente que `a` es igual a $5$. Para imprimir una variable, usamos `print(variable)`:"
   ]
  },
  {
   "cell_type": "code",
   "execution_count": 2,
   "metadata": {},
   "outputs": [
    {
     "name": "stdout",
     "output_type": "stream",
     "text": [
      "5\n"
     ]
    }
   ],
   "source": [
    "print(a)"
   ]
  },
  {
   "cell_type": "markdown",
   "metadata": {},
   "source": [
    "Podemos ver que la variable `a` conserva el valor que le asignamos, sin embargo, esto no es permanente, siempre podemos *reasignar* el valor de una variable en cualquier momento, por ejemplo:"
   ]
  },
  {
   "cell_type": "code",
   "execution_count": 3,
   "metadata": {},
   "outputs": [
    {
     "name": "stdout",
     "output_type": "stream",
     "text": [
      "123\n"
     ]
    }
   ],
   "source": [
    "a = 123    #Cambiamos el valor de a\n",
    "print(a)"
   ]
  },
  {
   "cell_type": "markdown",
   "metadata": {},
   "source": [
    "Para ver qué tipo de variable tenemos, usamos la función `type(algo)`, en este caso:"
   ]
  },
  {
   "cell_type": "code",
   "execution_count": 4,
   "metadata": {},
   "outputs": [
    {
     "name": "stdout",
     "output_type": "stream",
     "text": [
      "<class 'int'>\n"
     ]
    }
   ],
   "source": [
    "print(type(a))"
   ]
  },
  {
   "cell_type": "markdown",
   "metadata": {},
   "source": [
    "Las variables enteras se identifican como **int** que viene de *integer* (significa 'entero' en inglés). \n",
    "\n",
    "**Ojo**: El nombre de la variable es arbitrario, puedes ponerle como quieras, por ejemplo:\n"
   ]
  },
  {
   "cell_type": "code",
   "execution_count": 5,
   "metadata": {},
   "outputs": [
    {
     "name": "stdout",
     "output_type": "stream",
     "text": [
      "120\n"
     ]
    }
   ],
   "source": [
    "juanito = 100\n",
    "maria = 20\n",
    "\n",
    "print(juanito + maria)"
   ]
  },
  {
   "cell_type": "markdown",
   "metadata": {},
   "source": [
    "**Consejo**: Es recomendable que el nombre de las variables esté escrito en minúsculas, y que su nombre sea acorde a lo que representa."
   ]
  },
  {
   "cell_type": "markdown",
   "metadata": {},
   "source": [
    "### Números de punto flotante\n",
    "\n",
    "Un número de punto flotante es un número que tiene *punto decimal*, por ejemplo, los números $7.12$, $0.03$, $\\pi$, $-2.7$ son todos números de punto flotante porque, valga la redundancia, tienen un punto 😂"
   ]
  },
  {
   "cell_type": "code",
   "execution_count": 6,
   "metadata": {},
   "outputs": [
    {
     "name": "stdout",
     "output_type": "stream",
     "text": [
      "5.73\n",
      "<class 'float'>\n"
     ]
    }
   ],
   "source": [
    "b = 5.73\n",
    "\n",
    "print(b)  \n",
    "print(type(b))     "
   ]
  },
  {
   "cell_type": "markdown",
   "metadata": {},
   "source": [
    "A este tipo de variables se le denomina flotantes o **float**. Podemos guardar un numero entero en una variable flotante simplemente poniéndole con punto decimal cuando la asignemos, esto es:"
   ]
  },
  {
   "cell_type": "code",
   "execution_count": 7,
   "metadata": {},
   "outputs": [
    {
     "name": "stdout",
     "output_type": "stream",
     "text": [
      "5.0 <class 'float'>\n"
     ]
    }
   ],
   "source": [
    "a = 5.0\n",
    "print(a, type(a))"
   ]
  },
  {
   "cell_type": "markdown",
   "metadata": {},
   "source": [
    "### Cadenas de texto\n",
    "Como dijimos anteriormente, no solo podemos *guardar* números en variables, también podemos guardar texto 📘. Podemos hacerlo de la siguiente manera:"
   ]
  },
  {
   "cell_type": "code",
   "execution_count": 8,
   "metadata": {},
   "outputs": [
    {
     "name": "stdout",
     "output_type": "stream",
     "text": [
      "Puedes usar comillas simples o puedes usar comillas dobles\n",
      "<class 'str'>\n"
     ]
    }
   ],
   "source": [
    "texto1 = 'Puedes usar comillas simples'\n",
    "texto2 = \"o puedes usar comillas dobles\"\n",
    "\n",
    "print(texto1, texto2)\n",
    "print(type(texto1))"
   ]
  },
  {
   "cell_type": "markdown",
   "metadata": {},
   "source": [
    "Este tipo de variables se les puede llamar **string**, que significa 'cadena'  en inglés ⛓️. El hecho de que puedas usar dos tipos de comillas es para el caso de que quieras usar unas dentro de la cadena, por ejemplo:"
   ]
  },
  {
   "cell_type": "code",
   "execution_count": 9,
   "metadata": {},
   "outputs": [
    {
     "name": "stdout",
     "output_type": "stream",
     "text": [
      "Que onda, \"python\" rifa\n"
     ]
    }
   ],
   "source": [
    "tengo_comillas = 'Que onda, \"python\" rifa'\n",
    "print(tengo_comillas)"
   ]
  },
  {
   "cell_type": "markdown",
   "metadata": {},
   "source": [
    "### Booleanos\n",
    "\n",
    "Este tipo de variables solo tienen dos valores posibles: verdadero y falso. Si una variable booleana es verdadera, tiene el valor `True`, y si es falsa, el valor `False`"
   ]
  },
  {
   "cell_type": "code",
   "execution_count": 10,
   "metadata": {},
   "outputs": [
    {
     "name": "stdout",
     "output_type": "stream",
     "text": [
      "True\n",
      "<class 'bool'>\n"
     ]
    }
   ],
   "source": [
    "cierto = True\n",
    "print(cierto)\n",
    "print(type(cierto))"
   ]
  },
  {
   "cell_type": "markdown",
   "metadata": {},
   "source": [
    "Este tipo de variables se identifican con **bool**, de booleana (mucha redundancia por aquí jajaja pero esta cool, porque todo es claro siempre).\n",
    "\n",
    "**Ojo**: Las palabras `True` y `False` son **palabras reservadas** en Python, es decir, no puedes usarlas para nada más, por ejemplo, si intentas ponerle a una variable el nombre de `True`, python se molesta 👀:"
   ]
  },
  {
   "cell_type": "code",
   "execution_count": 11,
   "metadata": {},
   "outputs": [
    {
     "ename": "SyntaxError",
     "evalue": "can't assign to keyword (<ipython-input-11-dee0af73a17a>, line 1)",
     "output_type": "error",
     "traceback": [
      "\u001b[1;36m  File \u001b[1;32m\"<ipython-input-11-dee0af73a17a>\"\u001b[1;36m, line \u001b[1;32m1\u001b[0m\n\u001b[1;33m    True = 'Esto es ilegal'\u001b[0m\n\u001b[1;37m                           ^\u001b[0m\n\u001b[1;31mSyntaxError\u001b[0m\u001b[1;31m:\u001b[0m can't assign to keyword\n"
     ]
    }
   ],
   "source": [
    "True = 'Esto es ilegal'"
   ]
  },
  {
   "cell_type": "markdown",
   "metadata": {},
   "source": [
    "Por lo general, las palabras reservadas o *keywords* aparecerán de color verde. Otros ejemplo de palabras reservadas son `print` o `type`."
   ]
  },
  {
   "cell_type": "markdown",
   "metadata": {},
   "source": [
    "#### Números complejos\n",
    "\n",
    "Los números complejos son números \"extraños\", ya que tienen una parte *real* y una *imaginaria*. En general, tienen la forma $z = a + jb$, donde $a$ es la parte real y $b$ la parte imaginaria. También pueden entenderse como vectores en un plano (el plano complejo):\n",
    "\n",
    "<img src=\"https://www.superprof.es/apuntes/wp-content/uploads/2019/06/representacion-num.-complejos-modulo-y-arg..png\" alt=\"Drawing\" width=\"35%\"/>\n",
    "\n",
    "Imagen tomada de:  [Superprof](https://www.superprof.es/apuntes/escolar/matematicas/aritmetica/complejos/numeros-complejos-resumen.html)\n",
    "\n",
    "Para declarar un numero complejo usamos `complex(real, imaginaria)`"
   ]
  },
  {
   "cell_type": "code",
   "execution_count": 12,
   "metadata": {},
   "outputs": [
    {
     "name": "stdout",
     "output_type": "stream",
     "text": [
      "(1+2j)\n",
      "<class 'complex'>\n"
     ]
    }
   ],
   "source": [
    "z = complex(1, 2)\n",
    "print(z)\n",
    "print(type(z))"
   ]
  },
  {
   "cell_type": "markdown",
   "metadata": {},
   "source": [
    "Una variable con un número complejo es de tipo **complex**."
   ]
  },
  {
   "cell_type": "markdown",
   "metadata": {},
   "source": [
    "---\n",
    "## Operaciones elementales\n",
    "\n",
    "Bien, ya conocemos los tipos básicos de variables que se pueden tener en Python 🐍. Ahora, lo que nos interesa al programar es utilizar estas variables para realizar *operaciones* lógicas, aritméticas y demás cosas."
   ]
  },
  {
   "cell_type": "markdown",
   "metadata": {},
   "source": [
    "### Aritméticas\n",
    "Podemos realizar todas los operaciones matemáticas básicas que conocemos dentro de Python *utilizando variables numéricas* (int, float o complex). Para empezar, podemos **sumar** dos variables:"
   ]
  },
  {
   "cell_type": "code",
   "execution_count": 13,
   "metadata": {},
   "outputs": [
    {
     "name": "stdout",
     "output_type": "stream",
     "text": [
      "5.4 <class 'float'>\n"
     ]
    }
   ],
   "source": [
    "a = 2\n",
    "b = 3.4\n",
    "\n",
    "suma = a + b\n",
    "print(suma, type(suma))"
   ]
  },
  {
   "cell_type": "markdown",
   "metadata": {},
   "source": [
    "Notemos que la variable `suma` es de tipo *float*, (¿Por qué pasa esto?). \n",
    "\n",
    "Debemos tener cuidado de que la suma que queramos hacer tenga sentido 😯, por ejemplo:\n"
   ]
  },
  {
   "cell_type": "code",
   "execution_count": 14,
   "metadata": {},
   "outputs": [
    {
     "ename": "TypeError",
     "evalue": "can only concatenate str (not \"int\") to str",
     "output_type": "error",
     "traceback": [
      "\u001b[1;31m---------------------------------------------------------------------------\u001b[0m",
      "\u001b[1;31mTypeError\u001b[0m                                 Traceback (most recent call last)",
      "\u001b[1;32m<ipython-input-14-7142fe21ea38>\u001b[0m in \u001b[0;36m<module>\u001b[1;34m\u001b[0m\n\u001b[0;32m      2\u001b[0m \u001b[0mnum\u001b[0m \u001b[1;33m=\u001b[0m \u001b[1;36m7\u001b[0m\u001b[1;33m\u001b[0m\u001b[1;33m\u001b[0m\u001b[0m\n\u001b[0;32m      3\u001b[0m \u001b[1;33m\u001b[0m\u001b[0m\n\u001b[1;32m----> 4\u001b[1;33m \u001b[0msuma\u001b[0m \u001b[1;33m=\u001b[0m \u001b[0mtexto\u001b[0m \u001b[1;33m+\u001b[0m \u001b[0mnum\u001b[0m\u001b[1;33m\u001b[0m\u001b[1;33m\u001b[0m\u001b[0m\n\u001b[0m",
      "\u001b[1;31mTypeError\u001b[0m: can only concatenate str (not \"int\") to str"
     ]
    }
   ],
   "source": [
    "texto = 'Esto no es un número jajaja'\n",
    "num = 7\n",
    "\n",
    "suma = texto + num"
   ]
  },
  {
   "cell_type": "markdown",
   "metadata": {},
   "source": [
    "Esto pasó porque no tiene sentido sumar un entero con una cadena de texto. \n",
    "\n",
    "¿Podemos sumar cadenas de texto? Si, y eso se le llama *string concatenation*:"
   ]
  },
  {
   "cell_type": "code",
   "execution_count": 15,
   "metadata": {},
   "outputs": [
    {
     "name": "stdout",
     "output_type": "stream",
     "text": [
      "Hasta la vista, baby\n"
     ]
    }
   ],
   "source": [
    "a = 'Hasta la vista, '\n",
    "b = 'baby'\n",
    "\n",
    "frase = a+b\n",
    "print(frase)"
   ]
  },
  {
   "cell_type": "markdown",
   "metadata": {},
   "source": [
    "Verán más sobre este tema y cómo manejar strings más adelante en el curso. \n",
    "\n",
    "También podemos realizar las siguientes operaciones utilizando estos símbolos:\n",
    "\n",
    "1. Restar --> `-` \n",
    "2. Multiplicar --> `*` \n",
    "3. Dividir --> `/`\n",
    "4. Potencia --> `**`"
   ]
  },
  {
   "cell_type": "code",
   "execution_count": 16,
   "metadata": {},
   "outputs": [
    {
     "name": "stdout",
     "output_type": "stream",
     "text": [
      "Resta: -1\n",
      "Producto: 6\n",
      "División: 0.6666666666666666\n",
      "Potencia: 8\n"
     ]
    }
   ],
   "source": [
    "print('Resta:', 2-3)\n",
    "print('Producto:', 2*3)\n",
    "print('División:', 2/3)\n",
    "print('Potencia:', 2**3)"
   ]
  },
  {
   "cell_type": "markdown",
   "metadata": {},
   "source": [
    "Existen otras dos operaciones que no son del todo comunes. La primera es el **modulo**, que utiliza el símbolo `%`, y nos sirve para obtener el *resto* de una división. La segunda es `//` que nos regresa la *parte entera* de una división. Veamos un ejemplo:"
   ]
  },
  {
   "cell_type": "code",
   "execution_count": 17,
   "metadata": {},
   "outputs": [
    {
     "name": "stdout",
     "output_type": "stream",
     "text": [
      "2.75\n",
      "3\n",
      "2\n"
     ]
    }
   ],
   "source": [
    "a = 11\n",
    "b = 4\n",
    "\n",
    "print(a/b) # Esta es la división exacta\n",
    "print(a%b) # El resto de la división (11/4 = 2 y sobran 3)\n",
    "print(a//b) # Parte entera (el 4 cabe dos veces en el 11)"
   ]
  },
  {
   "cell_type": "markdown",
   "metadata": {},
   "source": [
    "Podemos realizar operaciones matemáticas más complicadas utilizando estas básicas, siempre respetando la jerarquía de operaciones, por ejemplo:"
   ]
  },
  {
   "cell_type": "code",
   "execution_count": 18,
   "metadata": {},
   "outputs": [
    {
     "name": "stdout",
     "output_type": "stream",
     "text": [
      "27.5\n"
     ]
    }
   ],
   "source": [
    "numero = (5/2)*7 + 2**3 - 1 + 7//2 \n",
    "print(numero)"
   ]
  },
  {
   "cell_type": "markdown",
   "metadata": {},
   "source": [
    "Comprueba este resultado a mano. \n",
    "\n",
    "Algo que es interesante observar es lo siguiente: Evidentemente $1 - 0.8 -0.2 = 0$, sin embargo, en Python:\n"
   ]
  },
  {
   "cell_type": "code",
   "execution_count": 19,
   "metadata": {},
   "outputs": [
    {
     "name": "stdout",
     "output_type": "stream",
     "text": [
      "-5.551115123125783e-17\n"
     ]
    }
   ],
   "source": [
    "print(1 - 0.8 - 0.2)"
   ]
  },
  {
   "cell_type": "markdown",
   "metadata": {},
   "source": [
    "*¡No es cero!* 😱. El resultado es muy pequeño; de hecho, sin notación científica:\n",
    "\n",
    "$0.00000000000000005$\n",
    "\n",
    "Pero no es cero. Esto se debe a que los números o variables flotantes no son exactos, son aproximados (no hay precisión infinita en ninguna computadora).\n",
    "\n",
    "**Tip**: Si quieres operar sobre una variable, (sumarla, multiplicarla, etc), puedes hacerlo de la siguiente manera:\n"
   ]
  },
  {
   "cell_type": "code",
   "execution_count": 20,
   "metadata": {},
   "outputs": [
    {
     "name": "stdout",
     "output_type": "stream",
     "text": [
      "7\n"
     ]
    }
   ],
   "source": [
    "a = 5\n",
    "\n",
    "a += 2\n",
    "print(a)"
   ]
  },
  {
   "cell_type": "markdown",
   "metadata": {},
   "source": [
    "Podemos ver que esto es equivalente a hacer `a = a + 2`. Se puede hacer esto con el resto de las operaciones 😎.\n",
    "\n",
    "Por último, una operación más que se puede realizar (de alguna forma) en *strings* es el producto, y funciona de la siguiente manera:\n"
   ]
  },
  {
   "cell_type": "code",
   "execution_count": 21,
   "metadata": {},
   "outputs": [
    {
     "name": "stdout",
     "output_type": "stream",
     "text": [
      "Hola Hola Hola Hola Hola Hola Hola Hola Hola Hola \n"
     ]
    }
   ],
   "source": [
    "a = 'Hola '\n",
    "\n",
    "repite = a*10\n",
    "print(repite)"
   ]
  },
  {
   "cell_type": "markdown",
   "metadata": {},
   "source": [
    "### Lógicas\n",
    "\n",
    "Muchas veces será necesario comparar dos variables en Python 🐍, para eso existen los operadores lógicos, los cuales te *regresan* una valor booleano, `True` o `False`. Estos operadores son:\n",
    "\n",
    "| Operador     |El operador regresa `True` si se cumple que:               |\n",
    "|--------------|:---------------------------------------------------------:|\n",
    "|   `a == b`   | Las variables `a` y `b` son iguales (**ojo**: son dos `=`)|\n",
    "|   `a != b`   | Las variables son diferentes                              |\n",
    "|    `a > b`   | Si `a` es estrictamente mayor a `b`                       |\n",
    "|    `a < b`   | Si `a` es estrictamente menor a `b`                       |\n",
    "|    `a <= b`  | Si `a` es menor o igual a `b`                             |\n",
    "|    `a >= b`  | Si `a` es mayor o igual a `b`                             |\n",
    "\n",
    "Con estos operadores podemos empezar a realizar programas más interesantes. Estos operadores son particularmente útiles para utilizar con condiciones `if/else`; se verá eso en lecciones posteriores.\n",
    "\n",
    "Algo interesante que podemos notar es lo siguiente:\n"
   ]
  },
  {
   "cell_type": "code",
   "execution_count": 22,
   "metadata": {},
   "outputs": [
    {
     "name": "stdout",
     "output_type": "stream",
     "text": [
      "True\n",
      "True\n"
     ]
    }
   ],
   "source": [
    "print( True == 1)\n",
    "print( False == 0)"
   ]
  },
  {
   "cell_type": "markdown",
   "metadata": {},
   "source": [
    "Notemos estamos *preguntando* si `True` es igual a uno, y es cierto. Análogamente tenemos que `False` es igual a cero. Esto se debe a que son los equivalentes binarios de estas dos *keywords*.\n",
    "\n",
    "¿Qué pasa si comparamos dos cadenas?\n"
   ]
  },
  {
   "cell_type": "code",
   "execution_count": 23,
   "metadata": {},
   "outputs": [
    {
     "name": "stdout",
     "output_type": "stream",
     "text": [
      "True\n",
      "False\n"
     ]
    }
   ],
   "source": [
    "a = 'somos iguales'\n",
    "b = 'somos iguales'\n",
    "c = 'yo soy unico y diferente'\n",
    "\n",
    "print(a == b)\n",
    "print(a == c)"
   ]
  },
  {
   "cell_type": "markdown",
   "metadata": {},
   "source": [
    "Podemos *revisar* si dos cadenas son iguales o no. \n",
    "\n",
    "Te recomiendo experimentar con estos operadores para que sepas que hace cada uno, te será útil más adelante.\n"
   ]
  },
  {
   "cell_type": "markdown",
   "metadata": {},
   "source": [
    "### Casting"
   ]
  },
  {
   "cell_type": "markdown",
   "metadata": {},
   "source": [
    "Veamos lo siguiente:"
   ]
  },
  {
   "cell_type": "code",
   "execution_count": 24,
   "metadata": {},
   "outputs": [
    {
     "ename": "TypeError",
     "evalue": "can only concatenate str (not \"int\") to str",
     "output_type": "error",
     "traceback": [
      "\u001b[1;31m---------------------------------------------------------------------------\u001b[0m",
      "\u001b[1;31mTypeError\u001b[0m                                 Traceback (most recent call last)",
      "\u001b[1;32m<ipython-input-24-82e0aea149a8>\u001b[0m in \u001b[0;36m<module>\u001b[1;34m\u001b[0m\n\u001b[0;32m      2\u001b[0m \u001b[0mb\u001b[0m \u001b[1;33m=\u001b[0m \u001b[1;36m3\u001b[0m\u001b[1;33m\u001b[0m\u001b[1;33m\u001b[0m\u001b[0m\n\u001b[0;32m      3\u001b[0m \u001b[1;33m\u001b[0m\u001b[0m\n\u001b[1;32m----> 4\u001b[1;33m \u001b[0mprint\u001b[0m\u001b[1;33m(\u001b[0m\u001b[0ma\u001b[0m \u001b[1;33m+\u001b[0m \u001b[0mb\u001b[0m\u001b[1;33m)\u001b[0m\u001b[1;33m\u001b[0m\u001b[1;33m\u001b[0m\u001b[0m\n\u001b[0m",
      "\u001b[1;31mTypeError\u001b[0m: can only concatenate str (not \"int\") to str"
     ]
    }
   ],
   "source": [
    "a = '5'\n",
    "b = 3\n",
    "\n",
    "print(a + b)"
   ]
  },
  {
   "cell_type": "markdown",
   "metadata": {},
   "source": [
    "¿Por qué tenemos un error? 😮. Como dijimos anteriormente, no podemos sumar un número y una cadena de texto; para resolver esto, podemos utilizar la función `float`:"
   ]
  },
  {
   "cell_type": "code",
   "execution_count": 25,
   "metadata": {},
   "outputs": [
    {
     "name": "stdout",
     "output_type": "stream",
     "text": [
      "8.129999999999999\n"
     ]
    }
   ],
   "source": [
    "a = '5.13'\n",
    "b = 3\n",
    "\n",
    "print(float(a) + b)"
   ]
  },
  {
   "cell_type": "markdown",
   "metadata": {},
   "source": [
    "Esto se conoce como **casting**, que es convertir una variable de un tipo a otro. En general, si quieres pasar una variable `a` a ser de un nuevo tipo, solo haz `tipo(a)`, y listo. Solo asegúrate de que tenga sentido; por ejemplo, no puedes convertir una cadena de texto con una palabra en un entero. Algunos ejemplos:"
   ]
  },
  {
   "cell_type": "code",
   "execution_count": 26,
   "metadata": {},
   "outputs": [
    {
     "name": "stdout",
     "output_type": "stream",
     "text": [
      "Mi edad es 12\n"
     ]
    }
   ],
   "source": [
    "numero = 12\n",
    "frase = 'Mi edad es '\n",
    "\n",
    "mi_edad = frase + str(12)\n",
    "print(mi_edad)"
   ]
  },
  {
   "cell_type": "markdown",
   "metadata": {},
   "source": [
    "Un ejemplo interesante es que puedes obtener la parte entera de un número flotante:"
   ]
  },
  {
   "cell_type": "code",
   "execution_count": 27,
   "metadata": {},
   "outputs": [
    {
     "name": "stdout",
     "output_type": "stream",
     "text": [
      "3\n"
     ]
    }
   ],
   "source": [
    "numero = 3.1416\n",
    "parte_entera = int(numero)\n",
    "\n",
    "print(parte_entera)"
   ]
  },
  {
   "cell_type": "markdown",
   "metadata": {},
   "source": [
    "----\n",
    "\n",
    "## Extra: Resolver problemas en [OmegaUp](https://omegaup.com/)"
   ]
  },
  {
   "cell_type": "markdown",
   "metadata": {},
   "source": [
    "En OmegaUp puedes resolver problemas para mejorar tus habilidades y tu lógica para programar. Lo único extra que necesitas para comenzar a resolver algunos problemas sencillos, es conocer la función `input()` y la función `split()`, que te ayudaran a recibir los datos de entrada.\n",
    "\n",
    "La función `input()` te sirve para leer algo desde la terminal (en este caso en una celda de tu notebook). Funciona así:"
   ]
  },
  {
   "cell_type": "code",
   "execution_count": 29,
   "metadata": {},
   "outputs": [
    {
     "name": "stdout",
     "output_type": "stream",
     "text": [
      "¿Cómo te llamas?\n"
     ]
    },
    {
     "name": "stdin",
     "output_type": "stream",
     "text": [
      " Missa\n"
     ]
    },
    {
     "name": "stdout",
     "output_type": "stream",
     "text": [
      "Hola Missa\n"
     ]
    }
   ],
   "source": [
    "print('¿Cómo te llamas?')\n",
    "\n",
    "nombre = input()\n",
    "\n",
    "print('Hola '+nombre)"
   ]
  },
  {
   "cell_type": "markdown",
   "metadata": {},
   "source": [
    "Es importante señalar que todo lo introduzcas será una sola cadena de texto. Aquí es donde nos sirve la función `split()` que separa en cadenas más pequeñas cada que haya un *espacio*, por ejemplo:"
   ]
  },
  {
   "cell_type": "code",
   "execution_count": 30,
   "metadata": {},
   "outputs": [
    {
     "name": "stdout",
     "output_type": "stream",
     "text": [
      "Introduce dos números\n"
     ]
    },
    {
     "name": "stdin",
     "output_type": "stream",
     "text": [
      " 5 7\n"
     ]
    },
    {
     "name": "stdout",
     "output_type": "stream",
     "text": [
      "Primer número: 5\n",
      "Segundo número: 7\n"
     ]
    }
   ],
   "source": [
    "print('Introduce dos números')\n",
    "a, b = input().split()\n",
    "\n",
    "print('Primer número: ' + a)\n",
    "print('Segundo número: ' + b)"
   ]
  },
  {
   "cell_type": "markdown",
   "metadata": {},
   "source": [
    "**Ojo**: Las variables siguen siendo de tipo *str*, por lo que si quieres tratarlos como números, debes usar `float()`.\n",
    "\n",
    "¡Genial!🤟🏽 Ahora resolvamos un problema sencillo. Elegimos el problema de [Suma simple](https://omegaup.com/arena/problem/suma_simple/#problems), donde sencillamente nos piden sumar dos números."
   ]
  },
  {
   "cell_type": "code",
   "execution_count": 31,
   "metadata": {},
   "outputs": [
    {
     "name": "stdin",
     "output_type": "stream",
     "text": [
      " 2 3\n"
     ]
    },
    {
     "name": "stdout",
     "output_type": "stream",
     "text": [
      "5\n"
     ]
    }
   ],
   "source": [
    "#SOLUCIÓN\n",
    "\n",
    "#Leemos los datos de entrada\n",
    "a, b = input().split()\n",
    "\n",
    "#Pasamos de str a int\n",
    "a = int(a)\n",
    "b = int(b)\n",
    "\n",
    "#Imprimimos la suma\n",
    "\n",
    "print(a + b)"
   ]
  },
  {
   "cell_type": "markdown",
   "metadata": {},
   "source": [
    "¡Prueba mandando esté código y obtén tus primeros 100 puntos! 🔥\n",
    "Práctica e intenta otros problemas hasta la próxima sesión😋.\n",
    "\n",
    "\n",
    "###### Por: [Gabriel Missael Barco](https://github.com/GabrielMissael)"
   ]
  }
 ],
 "metadata": {
  "kernelspec": {
   "display_name": "Python 3",
   "language": "python",
   "name": "python3"
  },
  "language_info": {
   "codemirror_mode": {
    "name": "ipython",
    "version": 3
   },
   "file_extension": ".py",
   "mimetype": "text/x-python",
   "name": "python",
   "nbconvert_exporter": "python",
   "pygments_lexer": "ipython3",
   "version": "3.7.1"
  }
 },
 "nbformat": 4,
 "nbformat_minor": 4
}
