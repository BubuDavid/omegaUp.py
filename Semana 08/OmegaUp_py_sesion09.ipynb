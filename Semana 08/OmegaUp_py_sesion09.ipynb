{
  "nbformat": 4,
  "nbformat_minor": 0,
  "metadata": {
    "colab": {
      "name": "OmegaUp.py-sesion09",
      "provenance": [],
      "collapsed_sections": [],
      "toc_visible": true
    },
    "kernelspec": {
      "name": "python3",
      "display_name": "Python 3"
    }
  },
  "cells": [
    {
      "cell_type": "markdown",
      "metadata": {
        "id": "mGVvCG1f1NrW",
        "colab_type": "text"
      },
      "source": [
        "# Lectura y Escritura de Archivos\n",
        "En este _notebook_ 📔️, aprenderemos cómo realizar escritura y lectura de archivos en Python. Asimismo, resolveremos un ejemplo utilizando IO de archivos."
      ]
    },
    {
      "cell_type": "code",
      "metadata": {
        "id": "KQJ3n8loqae1",
        "colab_type": "code",
        "colab": {}
      },
      "source": [
        "## Preparación para la sesión: Descarga de archivos de ejemplos\n",
        "!curl "
      ],
      "execution_count": null,
      "outputs": []
    },
    {
      "cell_type": "markdown",
      "metadata": {
        "id": "GPhS_Yac2CrZ",
        "colab_type": "text"
      },
      "source": [
        "## Función [`open()`](https://docs.python.org/3/library/functions.html#open)\n",
        "El método [`open()`](https://docs.python.org/3/library/functions.html#open) nos permite abrir archivos binarios o de texto en diferentes modos.\n",
        "\n",
        "> ### Diferencia entre archivos binarios y de texto:\n",
        "Los archivos de texto son archivos que contienen **sólo texto**. Estos archivos sólo contienen caracteres de texto.  \n",
        "Por otro lado, los archivos binarios contienen una secuencia de bytes que representa sus contenidos."
      ]
    },
    {
      "cell_type": "markdown",
      "metadata": {
        "id": "2I7ZGrS3ahny",
        "colab_type": "text"
      },
      "source": [
        "### Lectura de archivo de texto\n"
      ]
    },
    {
      "cell_type": "code",
      "metadata": {
        "id": "FN74__dNZi5c",
        "colab_type": "code",
        "colab": {}
      },
      "source": [
        "!cat hello-text.txt"
      ],
      "execution_count": null,
      "outputs": []
    },
    {
      "cell_type": "code",
      "metadata": {
        "id": "8csizfXXn3Wh",
        "colab_type": "code",
        "colab": {}
      },
      "source": [
        "!hexdump hello-text.txt"
      ],
      "execution_count": null,
      "outputs": []
    },
    {
      "cell_type": "code",
      "metadata": {
        "id": "Q1aKohZ6Z-9s",
        "colab_type": "code",
        "colab": {}
      },
      "source": [
        "archivo = open('hello-text.txt')\n",
        "lineas = archivo.readlines()\n",
        "print(lineas)\n",
        "archivo.close()"
      ],
      "execution_count": null,
      "outputs": []
    },
    {
      "cell_type": "markdown",
      "metadata": {
        "id": "USZJCP3EanDz",
        "colab_type": "text"
      },
      "source": [
        "### Lectura de archivo binario"
      ]
    },
    {
      "cell_type": "code",
      "metadata": {
        "id": "gAcgCbkaao4y",
        "colab_type": "code",
        "colab": {}
      },
      "source": [
        "!cat hello-binary.bin"
      ],
      "execution_count": null,
      "outputs": []
    },
    {
      "cell_type": "code",
      "metadata": {
        "id": "G5-E8jhKasD3",
        "colab_type": "code",
        "colab": {}
      },
      "source": [
        "!hexdump -C hello-binary.bin"
      ],
      "execution_count": null,
      "outputs": []
    },
    {
      "cell_type": "code",
      "metadata": {
        "id": "3_oJ76mxa11e",
        "colab_type": "code",
        "colab": {}
      },
      "source": [
        "archivo = open('hello-binary.bin', 'wb+')\n",
        "lineas = archivo.readlines()\n",
        "# print(lineas)\n",
        "print(type(archivo))\n",
        "archivo.close()"
      ],
      "execution_count": null,
      "outputs": []
    },
    {
      "cell_type": "markdown",
      "metadata": {
        "id": "CVb6qfdC7xYs",
        "colab_type": "text"
      },
      "source": [
        "## Método `write()`\n",
        "El método `write()` es implementado en los objetos _tipo archivo_ sobre los cuáles podemos _escribir_ datos. "
      ]
    },
    {
      "cell_type": "markdown",
      "metadata": {
        "id": "jmN-AXIGHgE-",
        "colab_type": "text"
      },
      "source": [
        "### Escritura de archivo de texto"
      ]
    },
    {
      "cell_type": "code",
      "metadata": {
        "id": "4nANN4WNHbc1",
        "colab_type": "code",
        "colab": {}
      },
      "source": [
        "archivo = open('escritura-texto.txt', 'wt+')\n",
        "archivo.write('Escritura de archivo de texto.\\n')\n",
        "archivo.write(str([42, 23, 32]))\n",
        "archivo.close()"
      ],
      "execution_count": null,
      "outputs": []
    },
    {
      "cell_type": "code",
      "metadata": {
        "id": "fpZkj-1OHxzE",
        "colab_type": "code",
        "colab": {}
      },
      "source": [
        "!cat escritura-texto.txt"
      ],
      "execution_count": null,
      "outputs": []
    },
    {
      "cell_type": "code",
      "metadata": {
        "id": "NFqtY9H6KG9F",
        "colab_type": "code",
        "colab": {}
      },
      "source": [
        "!hexdump -C escritura-texto.txt"
      ],
      "execution_count": null,
      "outputs": []
    },
    {
      "cell_type": "markdown",
      "metadata": {
        "id": "FnR4OqqdH2Nu",
        "colab_type": "text"
      },
      "source": [
        "### Escritura de archivo binario"
      ]
    },
    {
      "cell_type": "code",
      "metadata": {
        "id": "Ok99spvcJXuh",
        "colab_type": "code",
        "colab": {}
      },
      "source": [
        "archivo = open('escritura-binario', 'wb+')\n",
        "archivo.write(b'Escritura de archivo binario.\\n')\n",
        "archivo.write(bytes([42, 23, 32]))\n",
        "archivo.close()"
      ],
      "execution_count": null,
      "outputs": []
    },
    {
      "cell_type": "code",
      "metadata": {
        "id": "hBHZGtF7J_qu",
        "colab_type": "code",
        "colab": {}
      },
      "source": [
        "!cat escritura-binario"
      ],
      "execution_count": null,
      "outputs": []
    },
    {
      "cell_type": "code",
      "metadata": {
        "id": "DRVgwgerKMCU",
        "colab_type": "code",
        "colab": {}
      },
      "source": [
        "!hexdump escritura-binario"
      ],
      "execution_count": null,
      "outputs": []
    },
    {
      "cell_type": "markdown",
      "metadata": {
        "id": "6oAcXfpgKUi0",
        "colab_type": "text"
      },
      "source": [
        "## Mejor práctica: `with`\n",
        "Seguramente ya hemos notado lo tedioso (y propenso a errores) que resulta tener que realizar la limpieza de archivos abiertos utilizando el método `close()`. Es por esto que en Python, tenemos la palabra reservada `with`, para ejecutar la limpieza y manejo de errores automáticamente.\n",
        "\n",
        "### Ejemplo: Uso de `with`"
      ]
    },
    {
      "cell_type": "code",
      "metadata": {
        "id": "MaxY-TfUK89I",
        "colab_type": "code",
        "colab": {}
      },
      "source": [
        "with open('escritura-texto.txt') as file:\n",
        "    lineas = file.readlines()\n",
        "    print(lineas)"
      ],
      "execution_count": null,
      "outputs": []
    },
    {
      "cell_type": "markdown",
      "metadata": {
        "id": "_XWGiL9HLckw",
        "colab_type": "text"
      },
      "source": [
        "## Ejemplos prácticos!\n",
        "A continuación, resolveremos unos ejemplos de usos prácticos sobre IO de archivos.\n",
        "\n",
        "1. Suma de entradas leídas de un archivo"
      ]
    },
    {
      "cell_type": "code",
      "metadata": {
        "id": "bXkbz0HRLi-_",
        "colab_type": "code",
        "colab": {}
      },
      "source": [
        "ruta = 'sum-inputs.txt'\n",
        "with open(ruta) as f:\n",
        "    lineas = f.readlines()\n",
        "    numeros = [int(linea) for linea in lineas]\n",
        "    suma = sum(numeros)\n",
        "print(suma)"
      ],
      "execution_count": null,
      "outputs": []
    },
    {
      "cell_type": "markdown",
      "metadata": {
        "id": "ZtqreoOOONoS",
        "colab_type": "text"
      },
      "source": [
        "2. Escribiendo los resultados de nuestra suma a un archivo  \n",
        "  2.i. Archivo de texto"
      ]
    },
    {
      "cell_type": "code",
      "metadata": {
        "id": "QGxlmpnaOqeI",
        "colab_type": "code",
        "colab": {}
      },
      "source": [
        "ruta = 'sum-output.txt'\n",
        "with open(ruta, 'wt+') as f:\n",
        "    f.write(str(suma))\n",
        "\n",
        "# ----------------------------------\n",
        "\n",
        "!cat sum-output.txt"
      ],
      "execution_count": null,
      "outputs": []
    },
    {
      "cell_type": "markdown",
      "metadata": {
        "id": "qYnAO58DQHcK",
        "colab_type": "text"
      },
      "source": [
        "  2.ii Archivo binario"
      ]
    },
    {
      "cell_type": "code",
      "metadata": {
        "id": "6lliDU0uQJnN",
        "colab_type": "code",
        "colab": {}
      },
      "source": [
        "ruta = 'sum-output.bin'\n",
        "with open(ruta, 'wb+') as f:\n",
        "    f.write(suma.to_bytes(3, 'big'))\n",
        "\n",
        "# ---------------------------------\n",
        "\n",
        "!hexdump -C sum-output.bin"
      ],
      "execution_count": null,
      "outputs": []
    },
    {
      "cell_type": "markdown",
      "metadata": {
        "id": "HlSCM8LoTse8",
        "colab_type": "text"
      },
      "source": [
        "## Links Útiles y Lectura Recomendada\n",
        "+ [Convertidor Hexadecimal <-> Ascii](https://www.rapidtables.com/convert/number/hex-to-ascii.html)\n",
        "+ [Manual de `hexdump` (Inglés)](https://man7.org/linux/man-pages/man1/hexdump.1.html)\n",
        "+ [Manual de `cat` (Inglés)](https://man7.org/linux/man-pages/man1/cat.1.html)"
      ]
    }
  ]
}